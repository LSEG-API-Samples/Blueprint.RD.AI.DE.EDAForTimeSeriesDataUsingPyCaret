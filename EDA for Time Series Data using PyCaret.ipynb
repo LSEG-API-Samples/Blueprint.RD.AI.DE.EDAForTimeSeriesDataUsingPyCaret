{
 "cells": [
  {
   "cell_type": "markdown",
   "id": "fca070f0",
   "metadata": {},
   "source": [
    "## Table of Contents\n",
    "### 1. Introduction\n",
    "#### - Refinitiv Data Library\n",
    "#### - PyCaret\n",
    "### 2. Pre-requisites\n",
    "### 3. Setup & Load Data\n",
    "### 4. Exploratory Data Analysis\n",
    "### 5. Conclusion\n",
    "### 6. References"
   ]
  },
  {
   "cell_type": "markdown",
   "id": "bb5712e4",
   "metadata": {},
   "source": [
    "### 1. Introduction\n",
    "In this article, we are going to ingest time-series data using the Refinitiv Data Library and perform exploratory data analysis using the beta version of Pycaret, a “low-code” library that can be used to significantly decrease research and experimentation time. This can be done through various builtin tools that can very quickly provide important insight on the datasets. \n",
    "\n",
    "#### Refinitiv Data Library\n",
    "The Refinitiv Data Library for Python provides a set of easy-to-use interfaces offering our clients uniform programmatic access to the breadth and depth of financial data and services available on the Refinitiv Data Platform. The platform consists of data service layers that can provide streaming and non-streaming content as well as bulk content and a lot more, serving different client types from the desktop user to an enterprise application. Using the Refinitiv Data Library, the same Python code can be used to retrieve data regardless of which access point you choose to connect to the platform.\n",
    "\n",
    "#### PyCaret\n",
    "PyCaret is an open-source, low-code machine learning library in Python that can automate machine learning workflows. It is an end-to-end machine learning and model management tool that speeds up the experiment cycle exponentially therefore making data science teams more productive. It is essentially a Python wrapper around several machine learning libraries and frameworks such as scikit-learn, XGBoost, LightGBM, CatBoost, spaCy, Optuna, Hyperopt, Ray, and more. Pycaret recently released a Time Series Module which comes with a lot of handy features that can make time series modeling a breeze."
   ]
  },
  {
   "cell_type": "markdown",
   "id": "6f2a2194",
   "metadata": {},
   "source": [
    "### 2. Pre-requisites\n",
    "To run the example in this article we will need:\n",
    "1. Credentials for Refinitiv Data.\n",
    "2. The Anaconda distribution.\n",
    "3. A Python 3.7.* environment for full PyCaret compatibility.\n",
    "4. Required Python Packages: refinitiv-data, pycaret-ts-alpha & pandas."
   ]
  },
  {
   "cell_type": "markdown",
   "id": "81fad5a4",
   "metadata": {},
   "source": [
    "### 3. Setup & Load Data\n",
    "\n",
    "\n",
    "#### Environment Setup\n",
    "\n",
    "If you don't have pycaret-ts-alpha already installed, please follow the below steps to install it in a separate python 3.7 environment so that it doesn't affect your existing package dependencies:\n",
    "1. Open a terminal\n",
    "2. Create a new conda environment with Python 3.7.* version `conda create --name p_37 python=3.7`\n",
    "3. Actiavte the newly created conda envirnoment `conda activate p_37`\n",
    "4. Install the required packages using pip `pip install --user pycaret-ts-alpha mlflow refinitiv-data`\n",
    "5. Start the Jupyter Notebook by running `jupyter notebook`\n",
    "\n",
    "This will start your jupyter notebook in the newly created `p_37` conda environment with all the required packages installed."
   ]
  },
  {
   "cell_type": "markdown",
   "id": "df713d59",
   "metadata": {},
   "source": [
    "#### Load Packages\n",
    "Now, lets import the packages we need for this example:"
   ]
  },
  {
   "cell_type": "code",
   "execution_count": null,
   "id": "c1850f83",
   "metadata": {},
   "outputs": [],
   "source": [
    "# Install Packages\n",
    "import warnings\n",
    "warnings.filterwarnings('ignore')\n",
    "import pandas as pd\n",
    "import refinitiv.data as rd\n",
    "\n",
    "from pycaret.time_series import TSForecastingExperiment\n",
    "from os.path import exists"
   ]
  },
  {
   "cell_type": "markdown",
   "id": "8bc98292",
   "metadata": {},
   "source": [
    "#### Load Data\n",
    "Next, we will open a refinitiv data library session and load the timeseries data using  Google's RIC for a period between 2014 and 2022. We will then close the session as after loading data we don't have further need of it."
   ]
  },
  {
   "cell_type": "code",
   "execution_count": null,
   "id": "a34c8868",
   "metadata": {},
   "outputs": [],
   "source": [
    "if not exists('../data/goog.csv'):\n",
    "    rd.open_session(app_key='')\n",
    "    df = rd.get_history(universe=[\"GOOG.O\"], fields=['TR.PriceClose'], interval=\"1D\", start=\"2014-01-01\", end=\"2022-05-12\")\n",
    "    rd.close_session()\n",
    "    \n",
    "    df.to_csv('../data/goog.csv', index=True)\n",
    "else:\n",
    "    df = pd.read_csv('../data/goog.csv', index=True)"
   ]
  },
  {
   "cell_type": "markdown",
   "id": "2a8c6ece",
   "metadata": {},
   "source": [
    "### 4. Exploratory Data Analysis"
   ]
  },
  {
   "cell_type": "markdown",
   "id": "92185781",
   "metadata": {},
   "source": [
    "#### Data preprocessing\n",
    "In order to perform time series analysis, Pycaret expects to see the data in a particular format. More specifically the dataframe that holds the data needs to contain the time series in a float column and the index needs to contain the timestamps in what is known as a PeriodIndex format. The script bellow does exactly that preparing the data for pycaret ingestion."
   ]
  },
  {
   "cell_type": "code",
   "execution_count": null,
   "id": "98d41a3b",
   "metadata": {},
   "outputs": [],
   "source": [
    "df.index = pd.PeriodIndex(df.index, freq='D')\n",
    "df['Price Close'] = df['Price Close'].astype(float)\n",
    "df.sort_index(ascending=True, inplace=True)"
   ]
  },
  {
   "cell_type": "markdown",
   "id": "30e24f7a",
   "metadata": {},
   "source": [
    "#### Display Data\n",
    "In the above code, we converted the index type to `PeriodIndex` with `Daily` frequency and then sorted the Data by index therefore by date. Find below a snapshot of the dataframe and a line plot of Google's Price Close within the time frame:"
   ]
  },
  {
   "cell_type": "code",
   "execution_count": null,
   "id": "5258d8b4",
   "metadata": {},
   "outputs": [],
   "source": [
    "df.head()"
   ]
  },
  {
   "cell_type": "code",
   "execution_count": null,
   "id": "30701e9c",
   "metadata": {},
   "outputs": [],
   "source": [
    "# Plot line plot\n",
    "df.plot()"
   ]
  },
  {
   "cell_type": "markdown",
   "id": "a803b33f",
   "metadata": {},
   "source": [
    "#### Experiment Setup using Pycaret's `TSForecastingExperiment`\n",
    "Now, lets initialize the the modelling environment by setting up a few parameters. We will be setting the forecast horizon to predict the values for next 30 days and the number of folds for cross validation to test the models. We also inform pycaret that our main renderee is a jupyter notebook. We then instantiate a TSForecastingExperiment and initialise the newly created instance using the pre-defined parameters."
   ]
  },
  {
   "cell_type": "code",
   "execution_count": null,
   "id": "3ac4a7b6",
   "metadata": {},
   "outputs": [],
   "source": [
    "fig_kwargs={'renderer': 'notebook'}\n",
    "forecast_horizon = 30\n",
    "fold = 3\n",
    "\n",
    "eda = TSForecastingExperiment()\n",
    "eda.setup(data=df, fh=forecast_horizon, seasonal_period= [1, 5, 10, 20], fig_kwargs=fig_kwargs)"
   ]
  },
  {
   "cell_type": "markdown",
   "id": "c32c4b74",
   "metadata": {},
   "source": [
    "Already just by instantiating the model we have some very useful information at hand:\n",
    "\n",
    "1. Our data has 2048 data points and pycaret kept the last 30 as a test set for forecasting. The remaining 2018 data points will be used for training. \n",
    "\n",
    "2. We asked pycaret to check for possible seasonality in the data using 1, 5, 10 and 20 days options, and after testing it is reporting a primary seasonality of 5 days. We can also see that there is a lower probability of seasonality existence at 10 and 20 days. "
   ]
  },
  {
   "cell_type": "markdown",
   "id": "e4199c59",
   "metadata": {},
   "source": [
    "#### Plot data using `plot_model` function\n",
    "Another way of plotting the original data is by using `plot_model`. It's an interactive plot, allowing us to select a particular area on the graph and expand further at a more granular level than what we can initially see in the plot."
   ]
  },
  {
   "cell_type": "code",
   "execution_count": null,
   "id": "1b92abfe",
   "metadata": {},
   "outputs": [],
   "source": [
    "eda.plot_model() "
   ]
  },
  {
   "cell_type": "markdown",
   "id": "0bc95023",
   "metadata": {},
   "source": [
    "\n",
    "#### Auto-Correlation Function & Partial Auto-Correlation Function Plots\n",
    "\n",
    "As this is a very important aspect of time series analysis, let's first explore the standard `Auto-Correlation Function` (ACF) and PACF plots of the dataset. The ACF is a time domain measure of the correlation between two datapoints and how that changes as the distance between them increases. If in a time series there is no correlation of the signal with itself in time then autocorrelation remains zero, such would be the case with white noise.  Let's plot ACF for the Price close time series, pycaret will also provide a confidence band cone. The default is 95% confidence bands and essentially we can say that points that fall outside of the band impose an impact with a probability of more than 95%."
   ]
  },
  {
   "cell_type": "code",
   "execution_count": null,
   "id": "47103632",
   "metadata": {},
   "outputs": [],
   "source": [
    "eda.plot_model(plot=\"acf\")"
   ]
  },
  {
   "cell_type": "markdown",
   "id": "a16e626d",
   "metadata": {},
   "source": [
    "The results do make sense, as we expect today's price close will indeed affect future prices, however we do not see any clear cycles in the time series."
   ]
  },
  {
   "cell_type": "markdown",
   "id": "b7bd4f1d",
   "metadata": {},
   "source": [
    "The PAC is a conditional correlation between two datapoints assuming that we know their dependencies with some other set of datapoints. In a time series essentialy it describes the correlation between points t and t+n conditional on the time series values between them. We can customize the plot using kwargs, for example by using nlags we can determine the number of lags to examine."
   ]
  },
  {
   "cell_type": "code",
   "execution_count": null,
   "id": "2167a195",
   "metadata": {},
   "outputs": [],
   "source": [
    "eda.plot_model(\n",
    "    plot=\"pacf\",\n",
    "    data_kwargs={'nlags':30},\n",
    "    fig_kwargs={'fig_size': [800, 500], 'template': 'simple_white'}\n",
    ")"
   ]
  },
  {
   "cell_type": "markdown",
   "id": "16aa0415",
   "metadata": {},
   "source": [
    "We can see from the above diagram that only the 1st and 2nd lagged values have a clear statistical significance with regards to their partial auto-correlations. "
   ]
  },
  {
   "cell_type": "markdown",
   "id": "18e1ed9c",
   "metadata": {},
   "source": [
    "#### Periodogram\n",
    "A periodogram can be used to identify the dominant constituent frequencies within a time series. The periodogram can provide insight regarding possible cyclical behavior in a series. The algorithm generating the plot will try to recompose the time series using a sum of cosine waves with varying amplitudes and frequencies. In the following periodogram we can see that, as expected in financial data, the time series is decomposed into many equal, on average, amplitude and close frequency cosine waves."
   ]
  },
  {
   "cell_type": "code",
   "execution_count": null,
   "id": "59622fb3",
   "metadata": {},
   "outputs": [],
   "source": [
    "eda.plot_model(plot=\"periodogram\")"
   ]
  },
  {
   "cell_type": "markdown",
   "id": "02fba3bd",
   "metadata": {},
   "source": [
    "#### Fourier Transform\n",
    "Another interesting tool provided by PyCaret,useful for studying time series frequency components is the Fast Fourier Transform.\n",
    "\n",
    "A high value at a frequency close to zero can indicate the existence of a wandering random walk component within the time series. In such a case it usually recommended to differenciate the series to neutralise it. This could also be indicative of a stationary ARMA process with a high positive phi value.\n",
    "\n",
    "Furthermore, periodic value peaks at a frequency and its multiples is indicative of seasonality existence. The lowest or base frequency in this case is called the fundamental frequency and its inverse is the seasonal period for the model."
   ]
  },
  {
   "cell_type": "code",
   "execution_count": null,
   "id": "17bb81d5",
   "metadata": {},
   "outputs": [],
   "source": [
    "eda.plot_model(plot=\"fft\")"
   ]
  },
  {
   "cell_type": "markdown",
   "id": "2542b552",
   "metadata": {},
   "source": [
    "In this plot we can see FFT is peaking at `f ~= 0`, indicating that we could benefit from differencing the data."
   ]
  },
  {
   "cell_type": "markdown",
   "id": "ce8b75f9",
   "metadata": {},
   "source": [
    "PyCaret also provides a very handy way of ploting all these graphs in a single multi-plot by using the `diagnostics plot`."
   ]
  },
  {
   "cell_type": "code",
   "execution_count": null,
   "id": "9c856d66",
   "metadata": {},
   "outputs": [],
   "source": [
    "eda.plot_model(plot=\"diagnostics\", fig_kwargs={\"height\": 800, \"width\": 1000})"
   ]
  },
  {
   "cell_type": "markdown",
   "id": "f18464b1",
   "metadata": {},
   "source": [
    "Two more interesting plots are added in the collection using this call. The Probability Density Function plot and the Q-Q plot. \n",
    "The first one reveals the distribution of frequency of closing prices and the second one how linear the data is. We can see from the second plot the data is highly non-linear."
   ]
  },
  {
   "cell_type": "markdown",
   "id": "8d707904",
   "metadata": {
    "scrolled": false
   },
   "source": [
    "#### Time series decomposition\n",
    "Time series decomposition is the prococess of reducing a time series into its four structural components. These are:\n",
    "\n",
    "Trend: The general direction to which the time series is moving.\n",
    "Seasonality: Repeating signal cycles within the time series.\n",
    "Level: The average value of the time series.\n",
    "Noise: Random components within the series.\n",
    "\n",
    "##### Classical Decomposition\n",
    "The default setup with regards to seasonality is the period detected during PyCaret initialisation which would be 5 in this case. We can use the 'decomp' plot parameter to request the specific graphs. "
   ]
  },
  {
   "cell_type": "code",
   "execution_count": null,
   "id": "6a686196",
   "metadata": {},
   "outputs": [],
   "source": [
    "eda.plot_model(plot=\"decomp\")"
   ]
  },
  {
   "cell_type": "markdown",
   "id": "ebae9405",
   "metadata": {},
   "source": [
    "By using the data_kwargs dictionary parameter we can pass specific parameters to the call to affect its default behaviour. We can for example change the seasonality period to explore other possible underlying components within the time series."
   ]
  },
  {
   "cell_type": "code",
   "execution_count": null,
   "id": "0de1a26f",
   "metadata": {},
   "outputs": [],
   "source": [
    "eda.plot_model(plot=\"decomp\", data_kwargs={'seasonal_period': 20})"
   ]
  },
  {
   "cell_type": "markdown",
   "id": "17b5191b",
   "metadata": {
    "scrolled": false
   },
   "source": [
    "The PyCaret plot_model function allows for a lot of customisation and different possible uses that can provide different insight into the time series we are trying to analyse. Amongst others, we can customize the decomposition plot for multiplicative seasonality or use Loess, a versatile and robust method for decomposing time series that can estimate nonlinear relationships."
   ]
  },
  {
   "cell_type": "markdown",
   "id": "ea453237",
   "metadata": {},
   "source": [
    "#### Statistical tests\n",
    "Statistical testing is another important part of time series modeling. In pycaret we can use the check_stats function and provide any of these options:\n",
    "- summary: Summary Statistics\n",
    "- white_noise\n",
    "- stationarity: Stationarity tests (ADF and KPSS)\n",
    "- adf: Stationarity tests (ADF)\n",
    "- kpss: Stationarity tests (KPSS)\n",
    "- normality\n",
    "- all\n",
    "\n",
    "This will allow us to retrieve a multitude of restults that correspond to each of the options. Aside from the default behaviour, we also have the option to customise the tests."
   ]
  },
  {
   "cell_type": "code",
   "execution_count": null,
   "id": "9b7dd598",
   "metadata": {},
   "outputs": [],
   "source": [
    "eda.check_stats()"
   ]
  },
  {
   "cell_type": "markdown",
   "id": "afbfa861",
   "metadata": {},
   "source": [
    "### 5. Conclusion\n",
    "This article aims at providing the foundations for using the RD library and PyCaret. We explored environment setup and ingested the time series data using Refinitiv Data library. Furthermore, we performed exploratory data analysis using the different kinds of plots and statstical tests provided from PyCaret. "
   ]
  },
  {
   "cell_type": "markdown",
   "id": "01f572a7",
   "metadata": {},
   "source": [
    "### 6. References\n",
    "- https://developers.refinitiv.com/en/api-catalog/refinitiv-data-platform/refinitiv-data-library-for-python\n",
    "- https://developers.refinitiv.com/en/api-catalog/refinitiv-data-platform/refinitiv-data-library-for-python/tutorials\n",
    "- https://pypi.org/project/pycaret-ts-alpha/\n",
    "- https://otexts.com/fpp2/"
   ]
  },
  {
   "cell_type": "code",
   "execution_count": null,
   "id": "a1b75799",
   "metadata": {},
   "outputs": [],
   "source": []
  }
 ],
 "metadata": {
  "kernelspec": {
   "display_name": "Python 3 (ipykernel)",
   "language": "python",
   "name": "python3"
  },
  "language_info": {
   "codemirror_mode": {
    "name": "ipython",
    "version": 3
   },
   "file_extension": ".py",
   "mimetype": "text/x-python",
   "name": "python",
   "nbconvert_exporter": "python",
   "pygments_lexer": "ipython3",
   "version": "3.7.11"
  }
 },
 "nbformat": 4,
 "nbformat_minor": 5
}
